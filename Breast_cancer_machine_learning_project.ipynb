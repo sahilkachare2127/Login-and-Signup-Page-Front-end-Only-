{
  "nbformat": 4,
  "nbformat_minor": 0,
  "metadata": {
    "colab": {
      "provenance": [],
      "authorship_tag": "ABX9TyNF7bBUcgYXLHe0QTmU6ECc",
      "include_colab_link": true
    },
    "kernelspec": {
      "name": "python3",
      "display_name": "Python 3"
    },
    "language_info": {
      "name": "python"
    }
  },
  "cells": [
    {
      "cell_type": "markdown",
      "metadata": {
        "id": "view-in-github",
        "colab_type": "text"
      },
      "source": [
        "<a href=\"https://colab.research.google.com/github/sahilkachare2127/Login-and-Signup-Page-Front-end-Only-/blob/main/Breast_cancer_machine_learning_project.ipynb\" target=\"_parent\"><img src=\"https://colab.research.google.com/assets/colab-badge.svg\" alt=\"Open In Colab\"/></a>"
      ]
    },
    {
      "cell_type": "code",
      "execution_count": null,
      "metadata": {
        "id": "uETLX33FxPA1"
      },
      "outputs": [],
      "source": [
        "# performing linear algebra\n",
        "import numpy as np\n",
        "\n",
        "# data processing\n",
        "import pandas as pd\n",
        "\n",
        "# visualisation\n",
        "import matplotlib.pyplot as plt\n"
      ]
    },
    {
      "cell_type": "code",
      "source": [
        "df = pd.read_csv(\"/content/archive (1).zip\")\n",
        "\n",
        "print (data.head)\n"
      ],
      "metadata": {
        "colab": {
          "base_uri": "https://localhost:8080/",
          "height": 176
        },
        "id": "I9sc97FSxZ-2",
        "outputId": "72f53789-e170-41d0-f712-7a900dc062cc"
      },
      "execution_count": null,
      "outputs": [
        {
          "output_type": "error",
          "ename": "NameError",
          "evalue": "name 'data' is not defined",
          "traceback": [
            "\u001b[0;31m---------------------------------------------------------------------------\u001b[0m",
            "\u001b[0;31mNameError\u001b[0m                                 Traceback (most recent call last)",
            "\u001b[0;32m<ipython-input-6-f8af6d5571a2>\u001b[0m in \u001b[0;36m<cell line: 3>\u001b[0;34m()\u001b[0m\n\u001b[1;32m      1\u001b[0m \u001b[0mdf\u001b[0m \u001b[0;34m=\u001b[0m \u001b[0mpd\u001b[0m\u001b[0;34m.\u001b[0m\u001b[0mread_csv\u001b[0m\u001b[0;34m(\u001b[0m\u001b[0;34m\"/content/archive (1).zip\"\u001b[0m\u001b[0;34m)\u001b[0m\u001b[0;34m\u001b[0m\u001b[0;34m\u001b[0m\u001b[0m\n\u001b[1;32m      2\u001b[0m \u001b[0;34m\u001b[0m\u001b[0m\n\u001b[0;32m----> 3\u001b[0;31m \u001b[0mprint\u001b[0m \u001b[0;34m(\u001b[0m\u001b[0mdata\u001b[0m\u001b[0;34m.\u001b[0m\u001b[0mhead\u001b[0m\u001b[0;34m)\u001b[0m\u001b[0;34m\u001b[0m\u001b[0;34m\u001b[0m\u001b[0m\n\u001b[0m",
            "\u001b[0;31mNameError\u001b[0m: name 'data' is not defined"
          ]
        }
      ]
    },
    {
      "cell_type": "code",
      "source": [
        "df.info()\n"
      ],
      "metadata": {
        "id": "uq5nwZZa1uGo",
        "colab": {
          "base_uri": "https://localhost:8080/"
        },
        "outputId": "8a4d2983-35e9-4bbb-a0e6-f24a14695519"
      },
      "execution_count": 42,
      "outputs": [
        {
          "output_type": "stream",
          "name": "stdout",
          "text": [
            "<class 'pandas.core.frame.DataFrame'>\n",
            "Int64Index: 0 entries\n",
            "Data columns (total 33 columns):\n",
            " #   Column                   Non-Null Count  Dtype  \n",
            "---  ------                   --------------  -----  \n",
            " 0   id                       0 non-null      int64  \n",
            " 1   diagnosis                0 non-null      object \n",
            " 2   radius_mean              0 non-null      float64\n",
            " 3   texture_mean             0 non-null      float64\n",
            " 4   perimeter_mean           0 non-null      float64\n",
            " 5   area_mean                0 non-null      float64\n",
            " 6   smoothness_mean          0 non-null      float64\n",
            " 7   compactness_mean         0 non-null      float64\n",
            " 8   concavity_mean           0 non-null      float64\n",
            " 9   concave points_mean      0 non-null      float64\n",
            " 10  symmetry_mean            0 non-null      float64\n",
            " 11  fractal_dimension_mean   0 non-null      float64\n",
            " 12  radius_se                0 non-null      float64\n",
            " 13  texture_se               0 non-null      float64\n",
            " 14  perimeter_se             0 non-null      float64\n",
            " 15  area_se                  0 non-null      float64\n",
            " 16  smoothness_se            0 non-null      float64\n",
            " 17  compactness_se           0 non-null      float64\n",
            " 18  concavity_se             0 non-null      float64\n",
            " 19  concave points_se        0 non-null      float64\n",
            " 20  symmetry_se              0 non-null      float64\n",
            " 21  fractal_dimension_se     0 non-null      float64\n",
            " 22  radius_worst             0 non-null      float64\n",
            " 23  texture_worst            0 non-null      float64\n",
            " 24  perimeter_worst          0 non-null      float64\n",
            " 25  area_worst               0 non-null      float64\n",
            " 26  smoothness_worst         0 non-null      float64\n",
            " 27  compactness_worst        0 non-null      float64\n",
            " 28  concavity_worst          0 non-null      float64\n",
            " 29  concave points_worst     0 non-null      float64\n",
            " 30  symmetry_worst           0 non-null      float64\n",
            " 31  fractal_dimension_worst  0 non-null      float64\n",
            " 32  Unnamed: 32              0 non-null      float64\n",
            "dtypes: float64(31), int64(1), object(1)\n",
            "memory usage: 0.0+ bytes\n"
          ]
        }
      ]
    },
    {
      "cell_type": "code",
      "source": [
        "print(df.head())"
      ],
      "metadata": {
        "id": "12Eg4ttS0H1i"
      },
      "execution_count": null,
      "outputs": []
    },
    {
      "cell_type": "code",
      "source": [
        "df.drop(['Unnamed: 32', 'id'], axis = 1)\n",
        "print(df.shape)\n"
      ],
      "metadata": {
        "id": "wsWRQCjl2myh"
      },
      "execution_count": null,
      "outputs": []
    },
    {
      "cell_type": "code",
      "source": [
        "def diagnosis_value(diagnosis):\n",
        "\tif diagnosis == 'M':\n",
        "\t\treturn 1\n",
        "\telse:\n",
        "\t\treturn 0\n",
        "\n",
        "df['diagnosis'] = df['diagnosis'].apply(diagnosis_value)\n"
      ],
      "metadata": {
        "id": "pz09uzXF2usj"
      },
      "execution_count": 45,
      "outputs": []
    },
    {
      "cell_type": "code",
      "source": [
        "!pip install seaborn\n",
        "import seaborn as sns"
      ],
      "metadata": {
        "id": "0f5h3b8P3naz"
      },
      "execution_count": null,
      "outputs": []
    },
    {
      "cell_type": "code",
      "source": [
        "sns.lmplot(x = 'radius_mean', y = 'texture_mean', hue = 'diagnosis', data = df)\n"
      ],
      "metadata": {
        "id": "Wg4K2ZML5eRq"
      },
      "execution_count": null,
      "outputs": []
    },
    {
      "cell_type": "code",
      "source": [
        "sns.lmplot(x ='smoothness_mean', y = 'compactness_mean',\n",
        "\t\tdata = df, hue = 'diagnosis')\n"
      ],
      "metadata": {
        "colab": {
          "base_uri": "https://localhost:8080/",
          "height": 524
        },
        "id": "mw2yoD2c5nh0",
        "outputId": "22690dab-6015-451b-e137-84704701847c"
      },
      "execution_count": 50,
      "outputs": [
        {
          "output_type": "execute_result",
          "data": {
            "text/plain": [
              "<seaborn.axisgrid.FacetGrid at 0x7949bdfe1c30>"
            ]
          },
          "metadata": {},
          "execution_count": 50
        },
        {
          "output_type": "display_data",
          "data": {
            "text/plain": [
              "<Figure size 576.736x500 with 1 Axes>"
            ],
            "image/png": "[encoded data removed]"
          },
          "metadata": {}
        }
      ]
    },
    {
      "cell_type": "code",
      "source": [
        "X = np.array(df.iloc[:, 1:])\n",
        "y = np.array(df['diagnosis'])\n"
      ],
      "metadata": {
        "id": "urhd4f1Z5tDi"
      },
      "execution_count": null,
      "outputs": []
    },
    {
      "cell_type": "code",
      "source": [
        "from sklearn.model_selection import train_test_split\n",
        "X_train, X_test, y_train, y_test = train_test_split(\n",
        "\tX, y, test_size = 0.33, random_state = 42)\n"
      ],
      "metadata": {
        "id": "jM6KS_YZ5x7C"
      },
      "execution_count": 32,
      "outputs": []
    },
    {
      "cell_type": "code",
      "source": [
        "from sklearn.impute import SimpleImputer"
      ],
      "metadata": {
        "id": "lvEhbTR_-2_9"
      },
      "execution_count": 49,
      "outputs": []
    },
    {
      "cell_type": "code",
      "source": [
        "imputer = SimpleImputer(missing_values=np.nan, strategy='mean')"
      ],
      "metadata": {
        "id": "KCM03vis-7GC"
      },
      "execution_count": 35,
      "outputs": []
    },
    {
      "cell_type": "code",
      "source": [
        "imputer.fit(X_train)"
      ],
      "metadata": {
        "id": "-UmGzPTd-_FK"
      },
      "execution_count": null,
      "outputs": []
    },
    {
      "cell_type": "code",
      "source": [
        "X_train = imputer.transform(X_train)\n",
        "X_test = imputer.transform(X_test)"
      ],
      "metadata": {
        "id": "293inxm2_GTo"
      },
      "execution_count": 37,
      "outputs": []
    },
    {
      "cell_type": "code",
      "source": [
        "knn = KNeighborsClassifier(n_neighbors=13)\n",
        "knn.fit(X_train, y_train)"
      ],
      "metadata": {
        "id": "SVyeJ0QE_Jot"
      },
      "execution_count": null,
      "outputs": []
    },
    {
      "cell_type": "code",
      "source": [
        "from sklearn.metrics import accuracy_score\n",
        "y_pred = knn.predict(X_test)\n",
        "accuracy = accuracy_score(y_test, y_pred)\n",
        "print(f\"Accuracy: {accuracy}\")"
      ],
      "metadata": {
        "id": "VUGJwzSM_Ni-"
      },
      "execution_count": null,
      "outputs": []
    },
    {
      "cell_type": "code",
      "source": [
        "neighbors = []\n",
        "cv_scores = []\n",
        "\n",
        "from sklearn.model_selection import cross_val_score\n",
        "# perform 10 fold cross validation\n",
        "for k in range(1, 51, 2):\n",
        "\tneighbors.append(k)\n",
        "\tknn = KNeighborsClassifier(n_neighbors = k)\n",
        "\tscores = cross_val_score(\n",
        "\t\tknn, X_train, y_train, cv = 10, scoring = 'accuracy')\n",
        "\tcv_scores.append(scores.mean())\n"
      ],
      "metadata": {
        "id": "YLVumSXx_cdn"
      },
      "execution_count": 40,
      "outputs": []
    },
    {
      "cell_type": "code",
      "source": [
        "MSE = [1-x for x in cv_scores]\n",
        "\n",
        "# determining the best k\n",
        "optimal_k = neighbors[MSE.index(min(MSE))]\n",
        "print('The optimal number of neighbors is % d ' % optimal_k)\n",
        "\n",
        "# plot misclassification error versus k\n",
        "plt.figure(figsize = (10, 6))\n",
        "plt.plot(neighbors, MSE)\n",
        "plt.xlabel('Number of neighbors')\n",
        "plt.ylabel('Misclassification Error')\n",
        "plt.show()\n"
      ],
      "metadata": {
        "colab": {
          "base_uri": "https://localhost:8080/",
          "height": 559
        },
        "id": "F7EQmfCh_hL1",
        "outputId": "4b327ba8-e7c2-4763-a665-9df1352f35b5"
      },
      "execution_count": 48,
      "outputs": [
        {
          "output_type": "stream",
          "name": "stdout",
          "text": [
            "The optimal number of neighbors is  13 \n"
          ]
        },
        {
          "output_type": "display_data",
          "data": {
            "text/plain": [
              "<Figure size 1000x600 with 1 Axes>"
            ],
            "image/png": "[encoded data removed]"
          },
          "metadata": {}
        }
      ]
    }
  ]
}